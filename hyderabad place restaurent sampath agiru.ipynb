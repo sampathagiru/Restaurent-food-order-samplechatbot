{
 "cells": [
  {
   "cell_type": "code",
   "execution_count": null,
   "metadata": {},
   "outputs": [],
   "source": [
    "from tkinter import *\n",
    "\n",
    "window = Tk()\n",
    "window.title(\"Hyderabad place restaurent\")\n",
    "window.geometry('400x500')\n",
    "\n",
    "\n",
    "def send():\n",
    "    send =\"you:\"+messagewindow.get()\n",
    "\n",
    "    chatarea.insert(END,\"\\n\"+send)\n",
    "\n",
    "    if(messagewindow.get()== \"hi\"):\n",
    "        chatarea.insert(END,\"\\n\"+\"BOT:  would you like to order something\")\n",
    "    elif(messagewindow.get()== \"yes\"):\n",
    "        chatarea.insert(END,\"\\n\"+\"BOT: thanks for choosing our restaurent\")\n",
    "    elif(messagewindow.get()== \"how are you\"):\n",
    "        chatarea.insert(END,\"\\n\"+\"BOT: I am fime. what about you\")\n",
    "    elif(messagewindow.get()== \"can  i have the menu please\"):\n",
    "        chatarea.insert(END,\"\\n\"+\"BOT: sure, sir would u like to have veg or NOn veg\")\n",
    "    elif(messagewindow.get()== \"veg\"):\n",
    "        chatarea.insert(END,\"\\n\"+\"BOT: veg biryani, paneer tikka, veg fried rice\")\n",
    "    elif(messagewindow.get()== \"nonveg\"):\n",
    "        chatarea.insert(END,\"\\n\"+\"BOT: chickenbiryani,mutton biryani, fish biryani\")\n",
    "    elif(messagewindow.get()== \"vegbiryani\"):\n",
    "        chatarea.insert(END,\"\\n\"+\"BOT: anything else sir\")\n",
    "    elif(messagewindow.get()== \"iam done with my order\"):\n",
    "        chatarea.insert(END,\"\\n\"+\"BOT: tqs have a  nice day\")\n",
    "        \n",
    "    else:\n",
    "        chatarea.insert(END,\"\\n\"+\"BOT: I didn't get that\")\n",
    "\n",
    "\n",
    "#create chat area in the window\n",
    "\n",
    "chatarea = Text(window,bg='white',width=50,height=8)\n",
    "chatarea.place(x=6,y=6, height=385,width=370)\n",
    "\n",
    "\n",
    "#message area in the window\n",
    "\n",
    "messagewindow = Entry(window,bg='white',width= 30)\n",
    "messagewindow.place(x=128,y=400,height=88,width=260)\n",
    "\n",
    "#Button \n",
    "send = Button(window,text=\"send\",bg='blue',activebackground='light blue' ,width=20, height=5,font=('Arial',12),command= send)\n",
    "send.place(x=6,y=400,height=81,width=120)\n",
    "\n",
    "\n",
    "window.mainloop()"
   ]
  },
  {
   "cell_type": "code",
   "execution_count": null,
   "metadata": {},
   "outputs": [],
   "source": []
  }
 ],
 "metadata": {
  "kernelspec": {
   "display_name": "Python 3",
   "language": "python",
   "name": "python3"
  },
  "language_info": {
   "codemirror_mode": {
    "name": "ipython",
    "version": 3
   },
   "file_extension": ".py",
   "mimetype": "text/x-python",
   "name": "python",
   "nbconvert_exporter": "python",
   "pygments_lexer": "ipython3",
   "version": "3.7.6"
  }
 },
 "nbformat": 4,
 "nbformat_minor": 4
}
